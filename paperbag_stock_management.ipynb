{
  "cells": [
    {
      "cell_type": "markdown",
      "metadata": {},
      "source": [
        "# \ud83d\udce6 Paper Bag Manufacturing Stock Management System\n",
        "This Jupyter notebook demonstrates the SQL schema, tables, and procedures \n",
        "for managing stock, sales, and purchase orders in a **Paper Bag Manufacturing Company**."
      ]
    },
    {
      "cell_type": "markdown",
      "metadata": {},
      "source": [
        "## \ud83d\udd39 Database Creation\n",
        "We first create the database `paperbag` to manage stock, sales, and purchase orders."
      ]
    },
    {
      "cell_type": "code",
      "execution_count": null,
      "metadata": {},
      "outputs": [],
      "source": [
        "-- Create database\n",
        "create database paperbag;\n",
        "use paperbag;"
      ]
    },
    {
      "cell_type": "markdown",
      "metadata": {},
      "source": [
        "## \ud83d\udd39 Table: Models\n",
        "This table stores details about different models of paper bags.\n",
        "\n",
        "**Columns:**\n",
        "- `Model_ID`: Unique identifier\n",
        "- `Guzzet`, `Handle`, `Ink`: Bag features\n",
        "- Dimensions: `Length_cm`, `Width_cm`, `Height_cm`\n",
        "- `Product_Quantity_per_pallet`: No. of units per pallet"
      ]
    },
    {
      "cell_type": "code",
      "execution_count": null,
      "metadata": {},
      "outputs": [],
      "source": [
        "create table Models(\n",
        "    Model_ID varchar(3),\n",
        "    Guzzet varchar(3),\n",
        "    Handle varchar(3),\n",
        "    Ink varchar(3),\n",
        "    Length_cm int default 210,\n",
        "    Width_cm int,\n",
        "    Height_cm int default 380,\n",
        "    Product_Quantity_per_pallet int,\n",
        "    primary key (Model_ID)\n",
        ");\n",
        "\n",
        "insert into Models (Model_ID, Guzzet, Handle, Ink, Length_cm, Width_cm, Height_cm, Product_Quantity_per_pallet)\n",
        "values\n",
        "(\"D_1\", \"yes\", \"yes\", \"No\", 210, 120, 380, 105000),\n",
        "(\"D_2\", \"yes\", \"No\", \"yes\", 210, 120, 380, 210000),\n",
        "(\"D_3\", \"yes\", \"No\", \"No\", 210, 120, 380, 105000),\n",
        "(\"D_4\", \"No\", \"yes\", \"No\", 210, 0, 380, 210000),\n",
        "(\"D_5\", \"No\", \"No\", \"No\", 210, 0, 380, 210000),\n",
        "(\"D_6\", \"yes\", \"yes\", \"yes\", 230, 120, 400, 210000),\n",
        "(\"D_7\", \"yes\", \"yes\", \"yes\", 230, 120, 400, 210000),\n",
        "(\"D_8\", \"yes\", \"yes\", \"yes\", 230, 120, 400, 210000);"
      ]
    }
  ],
  "metadata": {
    "kernelspec": {
      "display_name": "SQL",
      "language": "sql",
      "name": "sql"
    },
    "language_info": {
      "name": "sql"
    }
  },
  "nbformat": 4,
  "nbformat_minor": 5
}