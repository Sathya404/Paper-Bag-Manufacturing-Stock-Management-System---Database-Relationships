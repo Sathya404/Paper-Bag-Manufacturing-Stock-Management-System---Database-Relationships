{
  "cells": [
    {
      "cell_type": "markdown",
      "metadata": {},
      "source": [
        "# 📦 Paper Bag Manufacturing Stock Management System\n",
        "This Jupyter notebook demonstrates the SQL schema, tables, queries, and procedures \n",
        "for managing stock, sales, and purchase orders in a **Paper Bag Manufacturing Company**."
      ]
    },
    {
      "cell_type": "markdown",
      "metadata": {},
      "source": [
        "## 🔹 Database Creation\n",
        "We first create the database `paperbag` to manage stock, sales, and purchase orders."
      ]
    },
    {
      "cell_type": "code",
      "execution_count": null,
      "metadata": {},
      "outputs": [],
      "source": [
        "-- Create database\n",
        "CREATE DATABASE IF NOT EXISTS paperbag;\n",
        "USE paperbag;"
      ]
    },
    {
      "cell_type": "markdown",
      "metadata": {},
      "source": [
        "## 🔹 Table: Models\n",
        "Stores details about different paper bag models.\n",
        "\n",
        "**Columns:**\n",
        "- `Model_ID`: Unique identifier\n",
        "- `Guzzet`, `Handle`, `Ink`: Bag features\n",
        "- Dimensions: `Length_cm`, `Width_cm`, `Height_cm`\n",
        "- `Product_Quantity_per_pallet`: Units per pallet"
      ]
    },
    {
      "cell_type": "code",
      "execution_count": null,
      "metadata": {},
      "outputs": [],
      "source": [
        "CREATE TABLE IF NOT EXISTS Models (\n",
        "    Model_ID VARCHAR(3) PRIMARY KEY,\n",
        "    Guzzet VARCHAR(3),\n",
        "    Handle VARCHAR(3),\n",
        "    Ink VARCHAR(3),\n",
        "    Length_cm INT DEFAULT 210,\n",
        "    Width_cm INT,\n",
        "    Height_cm INT DEFAULT 380,\n",
        "    Product_Quantity_per_pallet INT\n",
        ");"
      ]
    },
    {
      "cell_type": "markdown",
      "metadata": {},
      "source": [
        "## 🔹 Table: Goods_Stock\n",
        "Maintains records of all goods and raw materials.\n",
        "\n",
        "**Columns:**\n",
        "- `G_ID` – Goods ID\n",
        "- `Type` – Material type\n",
        "- `Specification` – Properties (gsm, color, etc.)\n",
        "- `Quantity` – Current stock"
      ]
    },
    {
      "cell_type": "code",
      "execution_count": null,
      "metadata": {},
      "outputs": [],
      "source": [
        "CREATE TABLE IF NOT EXISTS Goods_Stock (\n",
        "    G_ID VARCHAR(4) PRIMARY KEY,\n",
        "    Type VARCHAR(45),\n",
        "    Specification VARCHAR(15),\n",
        "    Quantity INT\n",
        ");"
      ]
    },
    {
      "cell_type": "markdown",
      "metadata": {},
      "source": [
        "## 🔹 Table: Purchase_order\n",
        "Stores purchase orders for replenishing stock.\n",
        "\n",
        "**Columns:**\n",
        "- `PO` – Order ID\n",
        "- `G_ID` – Goods ID\n",
        "- `Quantity` – Ordered quantity\n",
        "- `Status` – Started or Completed"
      ]
    },
    {
      "cell_type": "code",
      "execution_count": null,
      "metadata": {},
      "outputs": [],
      "source": [
        "CREATE TABLE IF NOT EXISTS Purchase_order (\n",
        "    PO VARCHAR(45) PRIMARY KEY,\n",
        "    G_ID VARCHAR(4),\n",
        "    Type VARCHAR(45),\n",
        "    Specification VARCHAR(15),\n",
        "    Quantity INT,\n",
        "    Status VARCHAR(10),\n",
        "    CONSTRAINT check_status CHECK (Status='Started' OR Status='Completed')\n",
        ");"
      ]
    },
    {
      "cell_type": "markdown",
      "metadata": {},
      "source": [
        "## 📊 Example Queries\n",
        "- Check new goods items for purchase orders\n",
        "- List models used till now\n",
        "- Most valued customers\n",
        "- Most required goods\n",
        "- Goods needed for Starbucks orders"
      ]
    },
    {
      "cell_type": "code",
      "execution_count": null,
      "metadata": {},
      "outputs": [],
      "source": [
        "-- Example Query: Models used till now\n",
        "SELECT DISTINCT s.Model\n",
        "FROM Sales AS s\n",
        "INNER JOIN Models AS m ON s.Model = m.Model_ID\n",
        "ORDER BY s.Model;"
      ]
    },
    {
      "cell_type": "markdown",
      "metadata": {},
      "source": [
        "## ⚙️ Trigger: after_sales_insert\n",
        "Automatically updates stock after a sales order."
      ]
    },
    {
      "cell_type": "code",
      "execution_count": null,
      "metadata": {},
      "outputs": [],
      "source": [
        "DELIMITER $$\n",
        "CREATE TRIGGER after_sales_insert\n",
        "AFTER INSERT ON Sales\n",
        "FOR EACH ROW\n",
        "BEGIN\n",
        "    CALL update_goods(NEW.Model, NEW.Order_Qty);\n",
        "END $$\n",
        "DELIMITER ;"
      ]
    }
  ],
  "metadata": {
    "kernelspec": {
      "display_name": "SQL",
      "language": "sql",
      "name": "sql"
    },
    "language_info": {
      "name": "sql"
    }
  },
  "nbformat": 4,
  "nbformat_minor": 5
}
